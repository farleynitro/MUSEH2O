{
 "cells": [
  {
   "cell_type": "code",
   "execution_count": null,
   "id": "8c5509da",
   "metadata": {},
   "outputs": [],
   "source": [
    "import sys\n",
    "import pandas as pd\n",
    "import numpy as np\n",
    "import matplotlib.pyplot as plt\n",
    "import seaborn as sns\n",
    "import os\n",
    "import datetime as DT\n",
    "sns.set(rc={'figure.figsize':(11.7,8.27)})\n",
    "sns.set_style(\"white\")\n",
    "sys.path.append('..')\n",
    "import rbf_functions"
   ]
  },
  {
   "cell_type": "code",
   "execution_count": null,
   "id": "20c560a2",
   "metadata": {},
   "outputs": [],
   "source": [
    "rbfs = [rbf_functions.original_rbf,\n",
    "        rbf_functions.squared_exponential_rbf,\n",
    "        rbf_functions.inverse_quadratic_rbf,\n",
    "        rbf_functions.inverse_multiquadric_rbf,\n",
    "        rbf_functions.exponential_rbf,\n",
    "        rbf_functions.matern32_rbf,\n",
    "        rbf_functions.matern52_rbf,\n",
    "       ]"
   ]
  },
  {
   "cell_type": "markdown",
   "id": "1100c43e",
   "metadata": {},
   "source": [
    "# Load model data for each activation function"
   ]
  },
  {
   "cell_type": "code",
   "execution_count": null,
   "id": "25aaff3b",
   "metadata": {},
   "outputs": [],
   "source": [
    "nfearchive = {}\n",
    "for n in rbfs:\n",
    "    nfearchive[n.__name__] = {}\n",
    "for entry in rbfs:\n",
    "    name = entry.__name__\n",
    "    output_dir = f\"../output/{name}/\"\n",
    "    for i in os.listdir(output_dir):\n",
    "        if i.endswith(\"_hypervolume.csv\"):\n",
    "            archives_by_nfe = pd.read_csv(output_dir + i)\n",
    "            nfes = archives_by_nfe[\"Unnamed: 0\"].values\n",
    "            u_nfes = np.unique(nfes)\n",
    "            selected_nfe = u_nfes\n",
    "#             selected_nfe = u_nfes[0::5]\n",
    "#             selected_nfe = np.append(selected_nfe, u_nfes[-1::])\n",
    "            nfearchive[name][int(i.split(\"_\")[0])] = archives_by_nfe.loc[archives_by_nfe['Unnamed: 0'].isin(selected_nfe)]"
   ]
  },
  {
   "cell_type": "markdown",
   "id": "89c5d13e",
   "metadata": {},
   "source": [
    "# Transform the dataframe back into platypus solution instances, to have a collection of solutions for each generation"
   ]
  },
  {
   "cell_type": "code",
   "execution_count": null,
   "id": "bdbea929",
   "metadata": {},
   "outputs": [],
   "source": [
    "from platypus import Solution, Problem, EpsilonIndicator\n",
    "\n",
    "n_rbfs = 4\n",
    "n_objs = 6\n",
    "n_vars = n_rbfs * 8 \n",
    "\n",
    "problem = Problem(n_vars, n_objs)\n",
    "\n",
    "# matters for hypervolume\n",
    "problem.directions[0] = Problem.MAXIMIZE  # hydropower\n",
    "problem.directions[1] = Problem.MAXIMIZE  # atomic power plant\n",
    "problem.directions[2] = Problem.MAXIMIZE  # baltimore\n",
    "problem.directions[3] = Problem.MAXIMIZE  # chester\n",
    "problem.directions[4] = Problem.MINIMIZE  # environment\n",
    "problem.directions[5] = Problem.MAXIMIZE  # recreation\n",
    "\n",
    "archives = {}\n",
    "seeds = np.arange(10, 101, 10).tolist()\n",
    "for n in rbfs:\n",
    "    archives[n.__name__] = {}\n",
    "    for i in seeds:\n",
    "        archives[n.__name__][i] = {}\n",
    "for entry in rbfs:\n",
    "    name = entry.__name__\n",
    "    for s in nfearchive[name]: #nfearchive[name]:\n",
    "        for nfe, generation in nfearchive[name][s].groupby(\"Unnamed: 0\"):\n",
    "            # we slice from 2, getting rid of the first two columns \n",
    "            # which contain the NFE and ID of each solution\n",
    "            archive = []\n",
    "            for i, row in generation.iloc[:, 2::].iterrows():\n",
    "                solution = Solution(problem)\n",
    "                solution.objectives = row\n",
    "                archive.append(solution)\n",
    "            archives[name][s][nfe] = archive\n",
    "        "
   ]
  },
  {
   "cell_type": "markdown",
   "id": "dd0defd4",
   "metadata": {},
   "source": [
    "# load refsets for each rbf, turn into solutions sets"
   ]
  },
  {
   "cell_type": "code",
   "execution_count": null,
   "id": "d36acdcd",
   "metadata": {},
   "outputs": [],
   "source": [
    "ref_dir = \"./refsets/\"\n",
    "ref_sets = {}\n",
    "for n in rbfs:\n",
    "    name = n.__name__\n",
    "    ref_sets[name] = {}\n",
    "    data = pd.read_csv(f'{ref_dir}{name}_refset.csv')  \n",
    "    ref_set = []\n",
    "    for i, row in data.iterrows():\n",
    "        solution = Solution(problem)\n",
    "        solution.objectives = row\n",
    "        ref_set.append(solution)\n",
    "    ref_sets[name] = ref_set"
   ]
  },
  {
   "cell_type": "markdown",
   "id": "4a4e9dfd",
   "metadata": {},
   "source": [
    "# Or, load global refset for all rbfs, turn into solution set"
   ]
  },
  {
   "cell_type": "code",
   "execution_count": null,
   "id": "3839e15e",
   "metadata": {},
   "outputs": [],
   "source": [
    "ref_dir = \"./refsets\"\n",
    "data = pd.read_csv(f'{ref_dir}/global_refset.csv')  \n",
    "ref_set = []\n",
    "for i, row in data.iterrows():\n",
    "    solution = Solution(problem)\n",
    "    solution.objectives = row\n",
    "    ref_set.append(solution)"
   ]
  },
  {
   "cell_type": "code",
   "execution_count": null,
   "id": "27bd8137",
   "metadata": {},
   "outputs": [],
   "source": [
    "archives.keys()"
   ]
  },
  {
   "cell_type": "markdown",
   "id": "358e0cb8",
   "metadata": {},
   "source": [
    "# Calculate Additive epsilon Indicator for each activation function and each seed"
   ]
  },
  {
   "cell_type": "code",
   "execution_count": null,
   "id": "498b4efe",
   "metadata": {},
   "outputs": [],
   "source": [
    "# ei = EpsilonIndicator(reference_set=ref_set)\n",
    "# nfes = []\n",
    "# eis = []\n",
    "# for nfe, archive in archives.items():\n",
    "#     nfes.append(nfe)\n",
    "#     eis.append(ei.calculate(archive))\n",
    "\n",
    "# rbf = \"inverse_multiquadric_rbf\"\n",
    "tempnfe = {}\n",
    "tempei = {}\n",
    "nfe_sets = {}\n",
    "ei_sets = {}\n",
    "for rbf in archives:\n",
    "    nfe_sets[rbf] = {}\n",
    "    ei_sets[rbf] = {}\n",
    "#     ei = EpsilonIndicator(reference_set=ref_sets[rbf])\n",
    "    ei = EpsilonIndicator(reference_set=ref_set) # global refset\n",
    "    print(f\"started {rbf} at {DT.datetime.now().strftime('%H:%M:%S')}\")\n",
    "    for seed in archives[rbf]:\n",
    "        nfe_sets[rbf][seed] = {}\n",
    "        ei_sets[rbf][seed] = {}\n",
    "        s_archives = archives[rbf][seed]\n",
    "        nfes = []\n",
    "        eis = []\n",
    "        for nfe, archive in s_archives.items():\n",
    "            nfes.append(nfe)\n",
    "            eis.append(ei.calculate(archive))\n",
    "        nfe_sets[rbf][seed] = nfes\n",
    "        ei_sets[rbf][seed] = eis\n",
    "        tempnfe[seed] = nfes\n",
    "        tempei[seed] = eis\n",
    "        dfei = pd.DataFrame.from_dict(tempei, orient='index')\n",
    "        dfnfe = pd.DataFrame.from_dict(tempnfe, orient='index')\n",
    "        dfei = dfei.T\n",
    "        dfnfe = dfnfe.T\n",
    "#         dfei.to_csv(f\"epind/{rbf}_ei.csv\", index=False) #local refset\n",
    "#         dfnfe.to_csv(f\"epind/{rbf}_ei_nfe.csv\", index=False) #local refset\n",
    "        dfei.to_csv(f\"epind_global/{rbf}_ei_all.csv\", index=False) #global\n",
    "        dfnfe.to_csv(f\"epind_global/{rbf}_ei_nfe_all.csv\", index=False) #global\n",
    "        print(f\"finished seed: {seed} at {DT.datetime.now().strftime('%H:%M:%S')}\")"
   ]
  },
  {
   "cell_type": "markdown",
   "id": "da0a1366",
   "metadata": {},
   "source": [
    "# Plot results"
   ]
  },
  {
   "cell_type": "code",
   "execution_count": null,
   "id": "905fc3d0",
   "metadata": {},
   "outputs": [],
   "source": [
    "sns.set_style(\"white\")\n",
    "for entry in rbfs:\n",
    "    name = entry.__name__\n",
    "    ei = pd.DataFrame.from_dict(ei_sets[name], orient='index').T\n",
    "    nfe = pd.DataFrame.from_dict(nfe_sets[name], orient='index').T\n",
    "    \n",
    "    fig, ax = plt.subplots()\n",
    "    ax.plot(nfe, ei)\n",
    "    ax.set_xlabel('nfe')\n",
    "    ax.set_ylabel('Epsilon Indicator')\n",
    "    ax.set_title(name)\n",
    "    sns.despine()\n",
    "\n",
    "    plt.show()"
   ]
  },
  {
   "cell_type": "markdown",
   "id": "b5cc01a5",
   "metadata": {},
   "source": [
    "# Local reference set"
   ]
  },
  {
   "cell_type": "code",
   "execution_count": null,
   "id": "e22adbb9",
   "metadata": {},
   "outputs": [],
   "source": [
    "for entry, c in zip(rbfs, sns.color_palette()):\n",
    "    rbf = entry.__name__\n",
    "    df_ei = pd.read_csv(f\"epind/{rbf}_ei.csv\")\n",
    "    df_ei_nfe = pd.read_csv(f\"epind/{rbf}_ei_nfe.csv\")\n",
    "    fig, ax = plt.subplots(sharex=True)\n",
    "\n",
    "    ax.plot(df_ei_nfe, df_ei, color=c)\n",
    "\n",
    "    ax.set_xlabel('nfe')\n",
    "    ax.set_ylabel('epsilon indicator')\n",
    "    ax.set_title(rbf)\n",
    "    sns.despine()\n",
    "    plt.savefig(f'figs/{rbf}/{rbf}_ei.png')\n",
    "plt.show()"
   ]
  },
  {
   "cell_type": "markdown",
   "id": "8a6d280a",
   "metadata": {},
   "source": [
    "# Global reference set"
   ]
  },
  {
   "cell_type": "code",
   "execution_count": null,
   "id": "bbd63fc8",
   "metadata": {},
   "outputs": [],
   "source": [
    "for entry, c in zip(rbfs, sns.color_palette()):\n",
    "    rbf = entry.__name__\n",
    "    df_ei = pd.read_csv(f\"epind_global/{rbf}_ei_all.csv\")\n",
    "    df_ei_nfe = pd.read_csv(f\"epind_global/{rbf}_ei_nfe_all.csv\")\n",
    "    fig, ax = plt.subplots(sharex=True)\n",
    "\n",
    "    ax.plot(df_ei_nfe, df_ei, color=c)\n",
    "\n",
    "    ax.set_xlabel('nfe')\n",
    "    ax.set_ylabel('epsilon indicator')\n",
    "    ax.set_title(rbf)\n",
    "    sns.despine()\n",
    "#     plt.savefig(f'figs/{rbf}/{rbf}_ei_global.png')\n",
    "plt.show()"
   ]
  },
  {
   "cell_type": "code",
   "execution_count": null,
   "id": "3ec865bf",
   "metadata": {},
   "outputs": [],
   "source": []
  },
  {
   "cell_type": "code",
   "execution_count": null,
   "id": "258aa953",
   "metadata": {},
   "outputs": [],
   "source": []
  }
 ],
 "metadata": {
  "kernelspec": {
   "display_name": "Python 3 (ipykernel)",
   "language": "python",
   "name": "python3"
  },
  "language_info": {
   "codemirror_mode": {
    "name": "ipython",
    "version": 3
   },
   "file_extension": ".py",
   "mimetype": "text/x-python",
   "name": "python",
   "nbconvert_exporter": "python",
   "pygments_lexer": "ipython3",
   "version": "3.8.3"
  }
 },
 "nbformat": 4,
 "nbformat_minor": 5
}

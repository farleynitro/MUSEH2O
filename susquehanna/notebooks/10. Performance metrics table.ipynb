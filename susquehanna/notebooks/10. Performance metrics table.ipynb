{
 "cells": [
  {
   "cell_type": "code",
   "execution_count": 1,
   "id": "8289a039",
   "metadata": {},
   "outputs": [],
   "source": [
    "import sys\n",
    "import pandas as pd\n",
    "sys.path.append('..')\n",
    "import os\n",
    "import rbf_functions"
   ]
  },
  {
   "cell_type": "code",
   "execution_count": 2,
   "id": "27081916",
   "metadata": {},
   "outputs": [],
   "source": [
    "rbfs = [rbf_functions.original_rbf,\n",
    "        rbf_functions.squared_exponential_rbf,\n",
    "        rbf_functions.inverse_quadratic_rbf,\n",
    "        rbf_functions.inverse_multiquadric_rbf,\n",
    "        rbf_functions.exponential_rbf,\n",
    "        rbf_functions.matern32_rbf,\n",
    "        rbf_functions.matern52_rbf,\n",
    "       ]"
   ]
  },
  {
   "cell_type": "markdown",
   "id": "9f4b6c79",
   "metadata": {},
   "source": [
    "# Load data"
   ]
  },
  {
   "cell_type": "code",
   "execution_count": 52,
   "id": "500f3c5a",
   "metadata": {},
   "outputs": [],
   "source": [
    "hv_global = pd.read_csv('./calculated_metrics/hv_refset_global.csv').iloc[0, -1]\n",
    "averages = {}\n",
    "for entry in rbfs:\n",
    "    rbf = entry.__name__\n",
    "    \n",
    "    # normalize hv against reference set so reference set is 1\n",
    "    df_hv = pd.read_csv(f\"calculated_metrics/hv_{rbf}_global.csv\")\n",
    "    df_hv.hypervolume /= hv_global\n",
    "    \n",
    "    df_ei = pd.read_csv(f\"calculated_metrics/ei_{rbf}_global.csv\")\n",
    "    df_gd = pd.read_csv(f\"calculated_metrics/gd_{rbf}_global.csv\")      \n",
    "\n",
    "    avg_hv = df_hv.groupby('seed').tail(1).loc[:, 'hypervolume'].mean()\n",
    "    avg_ei = df_ei.groupby('ei').tail(1).loc[:, 'ei'].mean()\n",
    "    avg_gd = df_gd.groupby('gd').tail(1).loc[:, 'gd'].mean()\n",
    "    averages[rbf] = dict(hypervolume=avg_hv, epsilon_indicator=avg_ei, \n",
    "                         generational_distance=avg_gd)\n"
   ]
  },
  {
   "cell_type": "code",
   "execution_count": 53,
   "id": "074a8189-6c68-4b5e-a281-7220050a0c14",
   "metadata": {},
   "outputs": [
    {
     "data": {
      "text/html": [
       "<div>\n",
       "<style scoped>\n",
       "    .dataframe tbody tr th:only-of-type {\n",
       "        vertical-align: middle;\n",
       "    }\n",
       "\n",
       "    .dataframe tbody tr th {\n",
       "        vertical-align: top;\n",
       "    }\n",
       "\n",
       "    .dataframe thead th {\n",
       "        text-align: right;\n",
       "    }\n",
       "</style>\n",
       "<table border=\"1\" class=\"dataframe\">\n",
       "  <thead>\n",
       "    <tr style=\"text-align: right;\">\n",
       "      <th></th>\n",
       "      <th>hypervolume</th>\n",
       "      <th>epsilon_indicator</th>\n",
       "      <th>generational_distance</th>\n",
       "    </tr>\n",
       "  </thead>\n",
       "  <tbody>\n",
       "    <tr>\n",
       "      <th>original_rbf</th>\n",
       "      <td>0.716880</td>\n",
       "      <td>0.349520</td>\n",
       "      <td>0.022556</td>\n",
       "    </tr>\n",
       "    <tr>\n",
       "      <th>squared_exponential_rbf</th>\n",
       "      <td>0.641916</td>\n",
       "      <td>0.411422</td>\n",
       "      <td>0.020800</td>\n",
       "    </tr>\n",
       "    <tr>\n",
       "      <th>inverse_quadratic_rbf</th>\n",
       "      <td>0.333763</td>\n",
       "      <td>0.472414</td>\n",
       "      <td>0.030182</td>\n",
       "    </tr>\n",
       "    <tr>\n",
       "      <th>inverse_multiquadric_rbf</th>\n",
       "      <td>0.350160</td>\n",
       "      <td>0.582708</td>\n",
       "      <td>0.023650</td>\n",
       "    </tr>\n",
       "    <tr>\n",
       "      <th>exponential_rbf</th>\n",
       "      <td>0.151511</td>\n",
       "      <td>0.363626</td>\n",
       "      <td>0.042522</td>\n",
       "    </tr>\n",
       "    <tr>\n",
       "      <th>matern32_rbf</th>\n",
       "      <td>0.374623</td>\n",
       "      <td>0.356777</td>\n",
       "      <td>0.032786</td>\n",
       "    </tr>\n",
       "    <tr>\n",
       "      <th>matern52_rbf</th>\n",
       "      <td>0.334237</td>\n",
       "      <td>0.369322</td>\n",
       "      <td>0.031683</td>\n",
       "    </tr>\n",
       "  </tbody>\n",
       "</table>\n",
       "</div>"
      ],
      "text/plain": [
       "                          hypervolume  epsilon_indicator  \\\n",
       "original_rbf                 0.716880           0.349520   \n",
       "squared_exponential_rbf      0.641916           0.411422   \n",
       "inverse_quadratic_rbf        0.333763           0.472414   \n",
       "inverse_multiquadric_rbf     0.350160           0.582708   \n",
       "exponential_rbf              0.151511           0.363626   \n",
       "matern32_rbf                 0.374623           0.356777   \n",
       "matern52_rbf                 0.334237           0.369322   \n",
       "\n",
       "                          generational_distance  \n",
       "original_rbf                           0.022556  \n",
       "squared_exponential_rbf                0.020800  \n",
       "inverse_quadratic_rbf                  0.030182  \n",
       "inverse_multiquadric_rbf               0.023650  \n",
       "exponential_rbf                        0.042522  \n",
       "matern32_rbf                           0.032786  \n",
       "matern52_rbf                           0.031683  "
      ]
     },
     "execution_count": 53,
     "metadata": {},
     "output_type": "execute_result"
    }
   ],
   "source": [
    "scores = pd.DataFrame.from_dict(averages).T\n",
    "scores"
   ]
  },
  {
   "cell_type": "code",
   "execution_count": 71,
   "id": "5291b39a-aa44-41e8-a733-82a464f5a218",
   "metadata": {},
   "outputs": [
    {
     "data": {
      "text/plain": [
       "{'original_rbf': 2675,\n",
       " 'squared_exponential_rbf': 2142,\n",
       " 'inverse_quadratic_rbf': 1684,\n",
       " 'inverse_multiquadric_rbf': 1636,\n",
       " 'exponential_rbf': 1585,\n",
       " 'matern32_rbf': 2268,\n",
       " 'matern52_rbf': 1774}"
      ]
     },
     "execution_count": 71,
     "metadata": {},
     "output_type": "execute_result"
    }
   ],
   "source": [
    "import os\n",
    "\n",
    "paretosets = {}\n",
    "size = {}\n",
    "for entry in rbfs:\n",
    "    name = entry.__name__\n",
    "    # load variables\n",
    "    varlist = []\n",
    "    variables = []\n",
    "\n",
    "    output_dir = os.path.abspath('./refsets/')\n",
    "    for filename in os.listdir(output_dir):\n",
    "        if filename == f'{name}_refset.csv':\n",
    "            varlist.append(filename[:-4])\n",
    "            df_vars = pd.read_csv(os.path.join(output_dir, filename))\n",
    "            paretosets[name] = df_vars\n",
    "            size[name] = len(df_vars)\n",
    "    variables = df_vars.values\n",
    "#     print(f\"Loaded: {', '.join(varlist)}\")\n",
    "\n",
    "size"
   ]
  },
  {
   "cell_type": "code",
   "execution_count": 72,
   "id": "8019f780-c073-49b7-a2c2-5e47727f7547",
   "metadata": {},
   "outputs": [],
   "source": [
    "scores['nr. of solutions'] = pd.Series(size)"
   ]
  },
  {
   "cell_type": "code",
   "execution_count": 73,
   "id": "efc7ec76-6371-4bc0-b28c-6e75b69b5c11",
   "metadata": {},
   "outputs": [
    {
     "data": {
      "text/html": [
       "<div>\n",
       "<style scoped>\n",
       "    .dataframe tbody tr th:only-of-type {\n",
       "        vertical-align: middle;\n",
       "    }\n",
       "\n",
       "    .dataframe tbody tr th {\n",
       "        vertical-align: top;\n",
       "    }\n",
       "\n",
       "    .dataframe thead th {\n",
       "        text-align: right;\n",
       "    }\n",
       "</style>\n",
       "<table border=\"1\" class=\"dataframe\">\n",
       "  <thead>\n",
       "    <tr style=\"text-align: right;\">\n",
       "      <th></th>\n",
       "      <th>hypervolume</th>\n",
       "      <th>epsilon_indicator</th>\n",
       "      <th>generational_distance</th>\n",
       "      <th>nr. of solutions</th>\n",
       "    </tr>\n",
       "  </thead>\n",
       "  <tbody>\n",
       "    <tr>\n",
       "      <th>original_rbf</th>\n",
       "      <td>0.716880</td>\n",
       "      <td>0.349520</td>\n",
       "      <td>0.022556</td>\n",
       "      <td>2675</td>\n",
       "    </tr>\n",
       "    <tr>\n",
       "      <th>squared_exponential_rbf</th>\n",
       "      <td>0.641916</td>\n",
       "      <td>0.411422</td>\n",
       "      <td>0.020800</td>\n",
       "      <td>2142</td>\n",
       "    </tr>\n",
       "    <tr>\n",
       "      <th>inverse_quadratic_rbf</th>\n",
       "      <td>0.333763</td>\n",
       "      <td>0.472414</td>\n",
       "      <td>0.030182</td>\n",
       "      <td>1684</td>\n",
       "    </tr>\n",
       "    <tr>\n",
       "      <th>inverse_multiquadric_rbf</th>\n",
       "      <td>0.350160</td>\n",
       "      <td>0.582708</td>\n",
       "      <td>0.023650</td>\n",
       "      <td>1636</td>\n",
       "    </tr>\n",
       "    <tr>\n",
       "      <th>exponential_rbf</th>\n",
       "      <td>0.151511</td>\n",
       "      <td>0.363626</td>\n",
       "      <td>0.042522</td>\n",
       "      <td>1585</td>\n",
       "    </tr>\n",
       "    <tr>\n",
       "      <th>matern32_rbf</th>\n",
       "      <td>0.374623</td>\n",
       "      <td>0.356777</td>\n",
       "      <td>0.032786</td>\n",
       "      <td>2268</td>\n",
       "    </tr>\n",
       "    <tr>\n",
       "      <th>matern52_rbf</th>\n",
       "      <td>0.334237</td>\n",
       "      <td>0.369322</td>\n",
       "      <td>0.031683</td>\n",
       "      <td>1774</td>\n",
       "    </tr>\n",
       "  </tbody>\n",
       "</table>\n",
       "</div>"
      ],
      "text/plain": [
       "                          hypervolume  epsilon_indicator  \\\n",
       "original_rbf                 0.716880           0.349520   \n",
       "squared_exponential_rbf      0.641916           0.411422   \n",
       "inverse_quadratic_rbf        0.333763           0.472414   \n",
       "inverse_multiquadric_rbf     0.350160           0.582708   \n",
       "exponential_rbf              0.151511           0.363626   \n",
       "matern32_rbf                 0.374623           0.356777   \n",
       "matern52_rbf                 0.334237           0.369322   \n",
       "\n",
       "                          generational_distance  nr. of solutions  \n",
       "original_rbf                           0.022556              2675  \n",
       "squared_exponential_rbf                0.020800              2142  \n",
       "inverse_quadratic_rbf                  0.030182              1684  \n",
       "inverse_multiquadric_rbf               0.023650              1636  \n",
       "exponential_rbf                        0.042522              1585  \n",
       "matern32_rbf                           0.032786              2268  \n",
       "matern52_rbf                           0.031683              1774  "
      ]
     },
     "execution_count": 73,
     "metadata": {},
     "output_type": "execute_result"
    }
   ],
   "source": [
    "scores"
   ]
  },
  {
   "cell_type": "markdown",
   "id": "4a9b3124-984a-44a7-a775-9c9293a39a78",
   "metadata": {},
   "source": [
    "# set contributions"
   ]
  },
  {
   "cell_type": "code",
   "execution_count": 74,
   "id": "199f2e7f-0074-4ced-afe2-ffe4f727a9f9",
   "metadata": {},
   "outputs": [],
   "source": [
    "df_global = pd.read_csv(f\"./refsets/global_refset.csv\")"
   ]
  },
  {
   "cell_type": "code",
   "execution_count": 75,
   "id": "c96714a8-8b6a-4848-bafa-ae2c46f0b99b",
   "metadata": {},
   "outputs": [
    {
     "data": {
      "text/plain": [
       "{'original_rbf': 0.743,\n",
       " 'squared_exponential_rbf': 0.183,\n",
       " 'inverse_quadratic_rbf': 0.02,\n",
       " 'inverse_multiquadric_rbf': 0.052,\n",
       " 'exponential_rbf': 0.0,\n",
       " 'matern32_rbf': 0.001,\n",
       " 'matern52_rbf': 0.002}"
      ]
     },
     "execution_count": 75,
     "metadata": {},
     "output_type": "execute_result"
    }
   ],
   "source": [
    "l_global = df_global.values.tolist()\n",
    "contribution = {}\n",
    "templ = []\n",
    "for rbf in paretosets:\n",
    "    x=0\n",
    "    for solution in paretosets[rbf].values.tolist():\n",
    "        if solution in l_global:\n",
    "            templ.append(solution)\n",
    "            x +=1\n",
    "    contribution[rbf] = round(x/len(df_global), 3)\n",
    "    rbfd[rbf] = pd.DataFrame(templ, columns=data.columns)\n",
    "    templ = []\n",
    "contribution"
   ]
  },
  {
   "cell_type": "code",
   "execution_count": 76,
   "id": "24d9fb9a-26b3-460c-a3d9-28e41c1a30e0",
   "metadata": {},
   "outputs": [],
   "source": [
    "scores[\"set contribution\"] = pd.Series(contribution)"
   ]
  },
  {
   "cell_type": "code",
   "execution_count": 77,
   "id": "e931cdb1-2cae-40ea-9e3e-380b49258a67",
   "metadata": {},
   "outputs": [
    {
     "data": {
      "text/html": [
       "<div>\n",
       "<style scoped>\n",
       "    .dataframe tbody tr th:only-of-type {\n",
       "        vertical-align: middle;\n",
       "    }\n",
       "\n",
       "    .dataframe tbody tr th {\n",
       "        vertical-align: top;\n",
       "    }\n",
       "\n",
       "    .dataframe thead th {\n",
       "        text-align: right;\n",
       "    }\n",
       "</style>\n",
       "<table border=\"1\" class=\"dataframe\">\n",
       "  <thead>\n",
       "    <tr style=\"text-align: right;\">\n",
       "      <th></th>\n",
       "      <th>hypervolume</th>\n",
       "      <th>epsilon_indicator</th>\n",
       "      <th>generational_distance</th>\n",
       "      <th>nr. of solutions</th>\n",
       "      <th>set contribution</th>\n",
       "    </tr>\n",
       "  </thead>\n",
       "  <tbody>\n",
       "    <tr>\n",
       "      <th>original_rbf</th>\n",
       "      <td>0.716880</td>\n",
       "      <td>0.349520</td>\n",
       "      <td>0.022556</td>\n",
       "      <td>2675</td>\n",
       "      <td>0.743</td>\n",
       "    </tr>\n",
       "    <tr>\n",
       "      <th>squared_exponential_rbf</th>\n",
       "      <td>0.641916</td>\n",
       "      <td>0.411422</td>\n",
       "      <td>0.020800</td>\n",
       "      <td>2142</td>\n",
       "      <td>0.183</td>\n",
       "    </tr>\n",
       "    <tr>\n",
       "      <th>inverse_quadratic_rbf</th>\n",
       "      <td>0.333763</td>\n",
       "      <td>0.472414</td>\n",
       "      <td>0.030182</td>\n",
       "      <td>1684</td>\n",
       "      <td>0.020</td>\n",
       "    </tr>\n",
       "    <tr>\n",
       "      <th>inverse_multiquadric_rbf</th>\n",
       "      <td>0.350160</td>\n",
       "      <td>0.582708</td>\n",
       "      <td>0.023650</td>\n",
       "      <td>1636</td>\n",
       "      <td>0.052</td>\n",
       "    </tr>\n",
       "    <tr>\n",
       "      <th>exponential_rbf</th>\n",
       "      <td>0.151511</td>\n",
       "      <td>0.363626</td>\n",
       "      <td>0.042522</td>\n",
       "      <td>1585</td>\n",
       "      <td>0.000</td>\n",
       "    </tr>\n",
       "    <tr>\n",
       "      <th>matern32_rbf</th>\n",
       "      <td>0.374623</td>\n",
       "      <td>0.356777</td>\n",
       "      <td>0.032786</td>\n",
       "      <td>2268</td>\n",
       "      <td>0.001</td>\n",
       "    </tr>\n",
       "    <tr>\n",
       "      <th>matern52_rbf</th>\n",
       "      <td>0.334237</td>\n",
       "      <td>0.369322</td>\n",
       "      <td>0.031683</td>\n",
       "      <td>1774</td>\n",
       "      <td>0.002</td>\n",
       "    </tr>\n",
       "  </tbody>\n",
       "</table>\n",
       "</div>"
      ],
      "text/plain": [
       "                          hypervolume  epsilon_indicator  \\\n",
       "original_rbf                 0.716880           0.349520   \n",
       "squared_exponential_rbf      0.641916           0.411422   \n",
       "inverse_quadratic_rbf        0.333763           0.472414   \n",
       "inverse_multiquadric_rbf     0.350160           0.582708   \n",
       "exponential_rbf              0.151511           0.363626   \n",
       "matern32_rbf                 0.374623           0.356777   \n",
       "matern52_rbf                 0.334237           0.369322   \n",
       "\n",
       "                          generational_distance  nr. of solutions  \\\n",
       "original_rbf                           0.022556              2675   \n",
       "squared_exponential_rbf                0.020800              2142   \n",
       "inverse_quadratic_rbf                  0.030182              1684   \n",
       "inverse_multiquadric_rbf               0.023650              1636   \n",
       "exponential_rbf                        0.042522              1585   \n",
       "matern32_rbf                           0.032786              2268   \n",
       "matern52_rbf                           0.031683              1774   \n",
       "\n",
       "                          set contribution  \n",
       "original_rbf                         0.743  \n",
       "squared_exponential_rbf              0.183  \n",
       "inverse_quadratic_rbf                0.020  \n",
       "inverse_multiquadric_rbf             0.052  \n",
       "exponential_rbf                      0.000  \n",
       "matern32_rbf                         0.001  \n",
       "matern52_rbf                         0.002  "
      ]
     },
     "execution_count": 77,
     "metadata": {},
     "output_type": "execute_result"
    }
   ],
   "source": [
    "scores"
   ]
  },
  {
   "cell_type": "code",
   "execution_count": 78,
   "id": "1c631a6c-6811-48a2-9e01-5064dd4ccc9c",
   "metadata": {},
   "outputs": [
    {
     "name": "stderr",
     "output_type": "stream",
     "text": [
      "/var/folders/_t/l6cr0r0d1m108xdrmrtz7stsb_csl0/T/ipykernel_65689/2965949692.py:1: FutureWarning: In future versions `DataFrame.to_latex` is expected to utilise the base implementation of `Styler.to_latex` for formatting and rendering. The arguments signature may therefore change. It is recommended instead to use `DataFrame.style.to_latex` which also contains additional functionality.\n",
      "  scores.to_latex()\n"
     ]
    },
    {
     "data": {
      "text/plain": [
       "'\\\\begin{tabular}{lrrrrr}\\n\\\\toprule\\n{} &  hypervolume &  epsilon\\\\_indicator &  generational\\\\_distance &  nr. of solutions &  set contribution \\\\\\\\\\n\\\\midrule\\noriginal\\\\_rbf             &     0.716880 &           0.349520 &               0.022556 &              2675 &             0.743 \\\\\\\\\\nsquared\\\\_exponential\\\\_rbf  &     0.641916 &           0.411422 &               0.020800 &              2142 &             0.183 \\\\\\\\\\ninverse\\\\_quadratic\\\\_rbf    &     0.333763 &           0.472414 &               0.030182 &              1684 &             0.020 \\\\\\\\\\ninverse\\\\_multiquadric\\\\_rbf &     0.350160 &           0.582708 &               0.023650 &              1636 &             0.052 \\\\\\\\\\nexponential\\\\_rbf          &     0.151511 &           0.363626 &               0.042522 &              1585 &             0.000 \\\\\\\\\\nmatern32\\\\_rbf             &     0.374623 &           0.356777 &               0.032786 &              2268 &             0.001 \\\\\\\\\\nmatern52\\\\_rbf             &     0.334237 &           0.369322 &               0.031683 &              1774 &             0.002 \\\\\\\\\\n\\\\bottomrule\\n\\\\end{tabular}\\n'"
      ]
     },
     "execution_count": 78,
     "metadata": {},
     "output_type": "execute_result"
    }
   ],
   "source": [
    "scores.to_latex()"
   ]
  },
  {
   "cell_type": "code",
   "execution_count": 79,
   "id": "4e33ef95-e5e0-4235-a15e-d4e9429f5294",
   "metadata": {},
   "outputs": [
    {
     "data": {
      "text/plain": [
       "array(['hypervolume', 'epsilon_indicator', 'generational_distance',\n",
       "       'nr. of solutions', 'set contribution'], dtype=object)"
      ]
     },
     "execution_count": 81,
     "metadata": {},
     "output_type": "execute_result"
    }
   ],
   "source": [
    "scores.cols"
   ]
  },
  {
   "cell_type": "code",
   "execution_count": 87,
   "id": "698d0a80-18e8-46be-9689-e2fff86bc7d2",
   "metadata": {},
   "outputs": [
    {
     "name": "stderr",
     "output_type": "stream",
     "text": [
      "/var/folders/_t/l6cr0r0d1m108xdrmrtz7stsb_csl0/T/ipykernel_65689/1778145395.py:1: FutureWarning: In future versions `DataFrame.to_latex` is expected to utilise the base implementation of `Styler.to_latex` for formatting and rendering. The arguments signature may therefore change. It is recommended instead to use `DataFrame.style.to_latex` which also contains additional functionality.\n",
      "  scores[[ 'nr. of solutions', 'generational_distance',\n"
     ]
    },
    {
     "data": {
      "text/plain": [
       "'\\\\begin{tabular}{lrrrrr}\\n\\\\toprule\\n{} &  nr. of solutions &  generational\\\\_distance &  epsilon\\\\_indicator &  hypervolume &  set contribution \\\\\\\\\\n\\\\midrule\\noriginal\\\\_rbf             &              2675 &               0.022556 &           0.349520 &     0.716880 &             0.743 \\\\\\\\\\nsquared\\\\_exponential\\\\_rbf  &              2142 &               0.020800 &           0.411422 &     0.641916 &             0.183 \\\\\\\\\\ninverse\\\\_quadratic\\\\_rbf    &              1684 &               0.030182 &           0.472414 &     0.333763 &             0.020 \\\\\\\\\\ninverse\\\\_multiquadric\\\\_rbf &              1636 &               0.023650 &           0.582708 &     0.350160 &             0.052 \\\\\\\\\\nexponential\\\\_rbf          &              1585 &               0.042522 &           0.363626 &     0.151511 &             0.000 \\\\\\\\\\nmatern32\\\\_rbf             &              2268 &               0.032786 &           0.356777 &     0.374623 &             0.001 \\\\\\\\\\nmatern52\\\\_rbf             &              1774 &               0.031683 &           0.369322 &     0.334237 &             0.002 \\\\\\\\\\n\\\\bottomrule\\n\\\\end{tabular}\\n'"
      ]
     },
     "execution_count": 87,
     "metadata": {},
     "output_type": "execute_result"
    }
   ],
   "source": [
    "scores[[ 'nr. of solutions', 'generational_distance',\n",
    "        'epsilon_indicator', 'hypervolume', 'set contribution']].to_latex()"
   ]
  },
  {
   "cell_type": "code",
   "execution_count": null,
   "id": "dac6b023-f6d5-484d-b358-0b3dee594f09",
   "metadata": {},
   "outputs": [],
   "source": []
  }
 ],
 "metadata": {
  "kernelspec": {
   "display_name": "Python 3 (ipykernel)",
   "language": "python",
   "name": "python3"
  },
  "language_info": {
   "codemirror_mode": {
    "name": "ipython",
    "version": 3
   },
   "file_extension": ".py",
   "mimetype": "text/x-python",
   "name": "python",
   "nbconvert_exporter": "python",
   "pygments_lexer": "ipython3",
   "version": "3.8.16"
  }
 },
 "nbformat": 4,
 "nbformat_minor": 5
}

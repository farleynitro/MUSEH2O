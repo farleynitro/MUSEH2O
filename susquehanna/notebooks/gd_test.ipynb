{
 "cells": [
  {
   "cell_type": "code",
   "execution_count": 55,
   "id": "000f183f-fa3d-4768-a325-799a51d0f3a8",
   "metadata": {},
   "outputs": [],
   "source": [
    "import sys\n",
    "import os\n",
    "sys.path.append(os.path.abspath(\"../..\"))\n",
    "from hv_calculation import get_platypus_problem\n",
    "from hypervolume_jk import GenerationalDistanceMetric"
   ]
  },
  {
   "cell_type": "code",
   "execution_count": 57,
   "id": "80dc3069-82d3-4ae3-9cf4-ccc176384652",
   "metadata": {},
   "outputs": [],
   "source": [
    "refset = pd.read_csv(\"./refsets/global_refset.csv\")"
   ]
  },
  {
   "cell_type": "code",
   "execution_count": 58,
   "id": "5e75a31c-f405-480b-a34a-ce07c9f8f743",
   "metadata": {},
   "outputs": [
    {
     "data": {
      "text/plain": [
       "(2859, 6)"
      ]
     },
     "execution_count": 58,
     "metadata": {},
     "output_type": "execute_result"
    }
   ],
   "source": [
    "refset.shape"
   ]
  },
  {
   "cell_type": "code",
   "execution_count": 59,
   "id": "ad8ca663-c4ce-4699-8f82-054b74f3fa56",
   "metadata": {},
   "outputs": [],
   "source": [
    "problem = get_platypus_problem()\n",
    "ei = GenerationalDistanceMetric(refset, problem)"
   ]
  },
  {
   "cell_type": "code",
   "execution_count": 60,
   "id": "8b257735-3556-495b-bf18-d1925fb1722d",
   "metadata": {},
   "outputs": [],
   "source": [
    "data = pd.read_csv(\"../output/squared_exponential_rbf/10_hypervolume.csv\")\n",
    "generations = []\n",
    "for nfe, generation in data.groupby(\"Unnamed: 0\"):\n",
    "    generation = generation.rename(\n",
    "        {\n",
    "            str(i): name\n",
    "            for i, name in enumerate(\n",
    "            [\n",
    "                \"hydropower\",\n",
    "                \"atomicpowerplant\",\n",
    "                \"baltimore\",\n",
    "                \"chester\",\n",
    "                \"environment\",\n",
    "                \"recreation\",\n",
    "            ]\n",
    "        )\n",
    "        },\n",
    "        axis=1,\n",
    "    )\n",
    "    generations.append(generation.iloc[:, 2::])"
   ]
  },
  {
   "cell_type": "code",
   "execution_count": 61,
   "id": "1140421a-90c1-45e4-8863-c8ade32338b1",
   "metadata": {},
   "outputs": [
    {
     "name": "stdout",
     "output_type": "stream",
     "text": [
      "(61, 6)\n"
     ]
    },
    {
     "data": {
      "text/plain": [
       "0.03789936473593654"
      ]
     },
     "execution_count": 61,
     "metadata": {},
     "output_type": "execute_result"
    }
   ],
   "source": [
    "# let's pick one and see what happens\n",
    "g = generations[10]\n",
    "print(g.shape)\n",
    "ei.calculate(g)"
   ]
  },
  {
   "cell_type": "code",
   "execution_count": 62,
   "id": "dbe1c7d9-196e-452f-8eda-de9ad942f7e2",
   "metadata": {},
   "outputs": [
    {
     "name": "stdout",
     "output_type": "stream",
     "text": [
      "287 ms ± 3.06 ms per loop (mean ± std. dev. of 7 runs, 1 loop each)\n"
     ]
    }
   ],
   "source": [
    "%%timeit\n",
    "ei.calculate(g)"
   ]
  },
  {
   "cell_type": "code",
   "execution_count": 63,
   "id": "14672ab0-9739-4f85-8540-a3cd0bbe66c4",
   "metadata": {},
   "outputs": [
    {
     "data": {
      "text/plain": [
       "(94, 6)"
      ]
     },
     "execution_count": 63,
     "metadata": {},
     "output_type": "execute_result"
    }
   ],
   "source": [
    "generations[100].shape"
   ]
  },
  {
   "cell_type": "code",
   "execution_count": 64,
   "id": "e8240483-5db5-41d4-b410-d15b08fd6956",
   "metadata": {},
   "outputs": [
    {
     "name": "stdout",
     "output_type": "stream",
     "text": [
      "452 ms ± 9.47 ms per loop (mean ± std. dev. of 7 runs, 1 loop each)\n"
     ]
    }
   ],
   "source": [
    "%%timeit\n",
    "ei.calculate(generations[100])"
   ]
  },
  {
   "cell_type": "code",
   "execution_count": 65,
   "id": "fe471cff-6b7e-47fe-9faa-8f2c3a51142b",
   "metadata": {},
   "outputs": [
    {
     "data": {
      "text/plain": [
       "(1333, 6)"
      ]
     },
     "execution_count": 65,
     "metadata": {},
     "output_type": "execute_result"
    }
   ],
   "source": [
    "generations[-1].shape"
   ]
  },
  {
   "cell_type": "code",
   "execution_count": 66,
   "id": "54d7c595-df2b-42aa-a866-e3ef869a12d9",
   "metadata": {},
   "outputs": [
    {
     "name": "stdout",
     "output_type": "stream",
     "text": [
      "6.24 s ± 11.1 ms per loop (mean ± std. dev. of 7 runs, 1 loop each)\n"
     ]
    }
   ],
   "source": [
    "%%timeit\n",
    "ei.calculate(generations[-1])"
   ]
  },
  {
   "cell_type": "markdown",
   "id": "a5a0cc03-c197-4f27-b28a-b2d1475aafbe",
   "metadata": {},
   "source": [
    "# custom implementation using numpy"
   ]
  },
  {
   "cell_type": "code",
   "execution_count": 7,
   "id": "2b6aeb1b-40d7-445d-99c5-dcf9f7e66acd",
   "metadata": {},
   "outputs": [],
   "source": [
    "math.pow(sum([math.pow(distance_to_nearest(s, self.reference_set), self.d) for s in feasible]), 1.0 / self.d) / len(feasible)"
   ]
  },
  {
   "cell_type": "markdown",
   "id": "475cc8d3-8a7e-4f8e-92d7-8d0fca1af118",
   "metadata": {},
   "source": [
    "\n",
    "\n",
    "```python\n",
    "math.pow(sum([math.pow(distance_to_nearest(s, self.reference_set), self.d) for s in feasible]), 1.0 / self.d) / len(feasible)\n",
    "```\n",
    "\n",
    "\n",
    "# pseudo code\n",
    "```\n",
    "import scipy.spatial.distance as distance\n",
    "\n",
    "distances = distance.cdist(generation, refset)\n",
    "minima = np.min(distances, axis=1)\n",
    "summed_squares = np.sum(np.pow(minima))\n",
    "gd = math.pow(summed_squares, 1/d) / generation.shape[0]\n",
    "\n",
    "distance = euclidian distance for solution\n",
    "\n",
    "\n",
    "```\n",
    "\n",
    "\n",
    "is it possible to vectorize also over the outer loop?\n",
    "We basically need to take the \n"
   ]
  },
  {
   "cell_type": "code",
   "execution_count": 39,
   "id": "8f14acb0-ad89-4002-9bc6-1be3d29f6c64",
   "metadata": {},
   "outputs": [],
   "source": [
    "from sklearn.preprocessing import MinMaxScaler\n",
    "\n",
    "ref_set = refset.values\n",
    "generation = g.values\n",
    "\n",
    "# normalize using the min and max across all generations and reference set\n",
    "# this is slightly different from how platypus handles it\n",
    "scaler = MinMaxScaler()\n",
    "scaler.fit(ref_set)\n",
    "\n",
    "normalized_refset = scaler.transform(ref_set)\n",
    "normalized_generation = scaler.transform(generation)"
   ]
  },
  {
   "cell_type": "code",
   "execution_count": 49,
   "id": "a48e252b-de29-403d-80f5-d3ceb5a80322",
   "metadata": {},
   "outputs": [],
   "source": [
    "import scipy.spatial.distance as distance\n",
    "import math\n",
    "\n",
    "\n",
    "\n",
    "def calculate_ei(normalized_generation, normalized_refset, d=2):\n",
    "    distances = distance.cdist(normalized_generation, normalized_refset)\n",
    "    minima = np.min(distances, axis=1)\n",
    "    summed_squares = np.sum(np.power(minima, d))\n",
    "    gd = math.pow(summed_squares, 1/d) / normalized_generation.shape[0]   \n",
    "    \n",
    "    return gd"
   ]
  },
  {
   "cell_type": "code",
   "execution_count": 54,
   "id": "9321b9bf-1273-4956-9be9-6150ddaab07b",
   "metadata": {},
   "outputs": [
    {
     "name": "stdout",
     "output_type": "stream",
     "text": [
      "0.03096122396998343\n"
     ]
    },
    {
     "data": {
      "text/plain": [
       "0.03096122396998343"
      ]
     },
     "execution_count": 54,
     "metadata": {},
     "output_type": "execute_result"
    }
   ],
   "source": [
    "\n",
    "g = generations[10]\n",
    "print(ei.calculate(g))\n",
    "normalized_generation = scaler.transform(g.values)\n",
    "calculate_ei(normalized_generation, normalized_refset)"
   ]
  },
  {
   "cell_type": "code",
   "execution_count": 27,
   "id": "05a91ce8-6382-422e-b982-7f38823cc3fb",
   "metadata": {},
   "outputs": [
    {
     "data": {
      "text/plain": [
       "0.03096122396998343"
      ]
     },
     "execution_count": 27,
     "metadata": {},
     "output_type": "execute_result"
    }
   ],
   "source": []
  },
  {
   "cell_type": "code",
   "execution_count": 28,
   "id": "8e60f78e-bcd4-42e4-95e0-3b3b03083e65",
   "metadata": {},
   "outputs": [],
   "source": [
    "generation = generations[-1]\n",
    "normalized_generation = scaler.transform(generation.values)"
   ]
  },
  {
   "cell_type": "code",
   "execution_count": 29,
   "id": "e71f3831-9ac2-44a7-b78a-67170b676b54",
   "metadata": {},
   "outputs": [
    {
     "name": "stdout",
     "output_type": "stream",
     "text": [
      "7.87 ms ± 46.5 µs per loop (mean ± std. dev. of 7 runs, 100 loops each)\n"
     ]
    }
   ],
   "source": [
    "%%timeit\n",
    "calculate_ei(normalized_generation, normalized_refset)"
   ]
  },
  {
   "cell_type": "code",
   "execution_count": null,
   "id": "c9da6d1f-01c5-45a2-b814-7a8615068d36",
   "metadata": {},
   "outputs": [],
   "source": []
  }
 ],
 "metadata": {
  "kernelspec": {
   "display_name": "Python 3 (ipykernel)",
   "language": "python",
   "name": "python3"
  },
  "language_info": {
   "codemirror_mode": {
    "name": "ipython",
    "version": 3
   },
   "file_extension": ".py",
   "mimetype": "text/x-python",
   "name": "python",
   "nbconvert_exporter": "python",
   "pygments_lexer": "ipython3",
   "version": "3.9.12"
  }
 },
 "nbformat": 4,
 "nbformat_minor": 5
}

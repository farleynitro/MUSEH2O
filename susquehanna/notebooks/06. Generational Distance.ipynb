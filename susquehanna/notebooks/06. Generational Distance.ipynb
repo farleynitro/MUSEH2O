{
 "cells": [
  {
   "cell_type": "code",
   "execution_count": 20,
   "id": "94d02151",
   "metadata": {},
   "outputs": [],
   "source": [
    "import sys\n",
    "import pandas as pd\n",
    "import numpy as np\n",
    "import matplotlib.pyplot as plt\n",
    "import seaborn as sns\n",
    "sns.set(rc={'figure.figsize':(11.7,8.27)})\n",
    "sns.set_style(\"white\")\n",
    "sys.path.append('..')\n",
    "import datetime as DT\n",
    "import os\n",
    "import rbf_functions"
   ]
  },
  {
   "cell_type": "code",
   "execution_count": 21,
   "id": "3346641b",
   "metadata": {},
   "outputs": [],
   "source": [
    "rbfs = [rbf_functions.original_rbf,\n",
    "        rbf_functions.squared_exponential_rbf,\n",
    "        rbf_functions.inverse_quadratic_rbf,\n",
    "        rbf_functions.inverse_multiquadric_rbf,\n",
    "        rbf_functions.exponential_rbf,\n",
    "        rbf_functions.matern32_rbf,\n",
    "        rbf_functions.matern52_rbf,\n",
    "       ]"
   ]
  },
  {
   "cell_type": "markdown",
   "id": "73b45980",
   "metadata": {},
   "source": [
    "# Load model output for each activation function"
   ]
  },
  {
   "cell_type": "code",
   "execution_count": 22,
   "id": "ad8fb9c4",
   "metadata": {},
   "outputs": [],
   "source": [
    "nfearchive = {}\n",
    "for n in rbfs:\n",
    "    nfearchive[n.__name__] = {}\n",
    "for entry in rbfs:\n",
    "    name = entry.__name__\n",
    "    output_dir = f\"../output/{name}/\"\n",
    "    for i in os.listdir(output_dir):\n",
    "        if i.endswith(\"_hypervolume.csv\"):\n",
    "            archives_by_nfe = pd.read_csv(output_dir + i)\n",
    "            nfes = archives_by_nfe[\"Unnamed: 0\"].values\n",
    "            u_nfes = np.unique(nfes)\n",
    "            selected_nfe = u_nfes[0::5]\n",
    "            selected_nfe = np.append(selected_nfe, u_nfes[-1::])\n",
    "            nfearchive[name][int(i.split(\"_\")[0])] = archives_by_nfe.loc[archives_by_nfe['Unnamed: 0'].isin(selected_nfe)]"
   ]
  },
  {
   "cell_type": "markdown",
   "id": "0cc495ef",
   "metadata": {},
   "source": [
    "# Transform the dataframe back into platypus solution instances, to have a collection of solutions for each generation"
   ]
  },
  {
   "cell_type": "code",
   "execution_count": 23,
   "id": "7f3af406",
   "metadata": {},
   "outputs": [],
   "source": [
    "from platypus import Solution, Problem, GenerationalDistance\n",
    "\n",
    "n_rbfs = 4\n",
    "n_objs = 6\n",
    "n_vars = n_rbfs * 8 \n",
    "\n",
    "problem = Problem(n_vars, n_objs)\n",
    "\n",
    "# matters for hypervolume\n",
    "problem.directions[0] = Problem.MAXIMIZE  # hydropower\n",
    "problem.directions[1] = Problem.MAXIMIZE  # atomic power plant\n",
    "problem.directions[2] = Problem.MAXIMIZE  # baltimore\n",
    "problem.directions[3] = Problem.MAXIMIZE  # chester\n",
    "problem.directions[4] = Problem.MINIMIZE  # environment\n",
    "problem.directions[5] = Problem.MAXIMIZE  # recreation\n",
    "\n",
    "archives = {}\n",
    "seeds = np.arange(10, 101, 10).tolist()\n",
    "for n in rbfs:\n",
    "    archives[n.__name__] = {}\n",
    "    for i in seeds:\n",
    "        archives[n.__name__][i] = {}\n",
    "for entry in rbfs:\n",
    "    name = entry.__name__\n",
    "    for s in nfearchive[name]: #nfearchive[name]:\n",
    "        for nfe, generation in nfearchive[name][s].groupby(\"Unnamed: 0\"):\n",
    "            # we slice from 2, getting rid of the first two columns \n",
    "            # which contain the NFE and ID of each solution\n",
    "            archive = []\n",
    "            for i, row in generation.iloc[:, 2::].iterrows():\n",
    "                solution = Solution(problem)\n",
    "                solution.objectives = row\n",
    "                archive.append(solution)\n",
    "            archives[name][s][nfe] = archive\n",
    "        "
   ]
  },
  {
   "cell_type": "markdown",
   "id": "e4b2dc82",
   "metadata": {},
   "source": [
    "# Load refsets for each rbf, turn into solutions sets"
   ]
  },
  {
   "cell_type": "code",
   "execution_count": 25,
   "id": "f4972f98",
   "metadata": {},
   "outputs": [],
   "source": [
    "# load refsets for each rbf\n",
    "ref_dir = \"./refsets/\"\n",
    "ref_sets = {}\n",
    "for n in rbfs:\n",
    "    name = n.__name__\n",
    "    ref_sets[name] = {}\n",
    "    data = pd.read_csv(f'{ref_dir}{name}_refset.csv')  \n",
    "    ref_set = []\n",
    "    for i, row in data.iterrows():\n",
    "        solution = Solution(problem)\n",
    "        solution.objectives = row\n",
    "        ref_set.append(solution)\n",
    "    ref_sets[name] = ref_set"
   ]
  },
  {
   "cell_type": "markdown",
   "id": "c7cb5ded",
   "metadata": {},
   "source": [
    "# Or, load global refset for all rbfs, turn into solution set"
   ]
  },
  {
   "cell_type": "code",
   "execution_count": 27,
   "id": "6a396d59",
   "metadata": {},
   "outputs": [],
   "source": [
    "# load refset for all rbfs\n",
    "ref_dir = \"./refsets\"\n",
    "ref_sets = {}\n",
    "data = pd.read_csv(f'{ref_dir}/global_refset.csv')  \n",
    "ref_set = []\n",
    "for i, row in data.iterrows():\n",
    "    solution = Solution(problem)\n",
    "    solution.objectives = row\n",
    "    ref_set.append(solution)"
   ]
  },
  {
   "cell_type": "markdown",
   "id": "7620a12d",
   "metadata": {},
   "source": [
    "# Calculate generational distance"
   ]
  },
  {
   "cell_type": "code",
   "execution_count": null,
   "id": "1823275d",
   "metadata": {},
   "outputs": [
    {
     "name": "stdout",
     "output_type": "stream",
     "text": [
      "started original_rbf at 21:11:28\n",
      "finished seed: 10 at 21:14:48\n",
      "finished seed: 20 at 21:18:04\n",
      "finished seed: 30 at 21:21:34\n",
      "finished seed: 40 at 21:25:11\n",
      "finished seed: 50 at 21:28:53\n",
      "finished seed: 60 at 21:31:56\n",
      "finished seed: 70 at 21:35:05\n",
      "finished seed: 80 at 21:38:22\n",
      "finished seed: 90 at 22:11:45\n",
      "finished seed: 100 at 02:51:23\n",
      "started squared_exponential_rbf at 02:51:23\n",
      "finished seed: 10 at 02:55:10\n"
     ]
    }
   ],
   "source": [
    "# gd = GenerationalDistance(reference_set=ref_set)\n",
    "# nfes = []\n",
    "# gds = []\n",
    "# for nfe, archive in archives.items():\n",
    "#     nfes.append(nfe)\n",
    "#     gds.append(gd.calculate(archive))\n",
    "    \n",
    "tempnfe = {}\n",
    "tempgd = {}\n",
    "nfe_sets = {}\n",
    "gd_sets = {}\n",
    "for rbf in archives:\n",
    "    nfe_sets[rbf] = {}\n",
    "    gd_sets[rbf] = {}\n",
    "#     gd = GenerationalDistance(reference_set=ref_sets[rbf])\n",
    "    gd = GenerationalDistance(reference_set=ref_set) #global refset\n",
    "    print(f\"started {rbf} at {DT.datetime.now().strftime('%H:%M:%S')}\")\n",
    "    for seed in archives[rbf]:\n",
    "        nfe_sets[rbf][seed] = {}\n",
    "        gd_sets[rbf][seed] = {}\n",
    "        s_archives = archives[rbf][seed]\n",
    "        nfes = []\n",
    "        gds = []\n",
    "        for nfe, archive in s_archives.items():\n",
    "            nfes.append(nfe)\n",
    "            gds.append(gd.calculate(archive))\n",
    "        nfe_sets[rbf][seed] = nfes\n",
    "        gd_sets[rbf][seed] = gds\n",
    "        tempnfe[seed] = nfes\n",
    "        tempgd[seed] = gds\n",
    "        dfgd = pd.DataFrame.from_dict(tempgd, orient='index')\n",
    "        dfnfe = pd.DataFrame.from_dict(tempnfe, orient='index')\n",
    "        dfgd = dfgd.T\n",
    "        dfnfe = dfnfe.T\n",
    "#         dfgd.to_csv(f\"gd/gd/{rbf}_gd.csv\", index=False)\n",
    "#         dfnfe.to_csv(f\"gd/gd/{rbf}_gd_nfe.csv\", index=False)\n",
    "        dfgd.to_csv(f\"gd/gd_global/{rbf}_gd_all.csv\", index=False) #global refset\n",
    "        dfnfe.to_csv(f\"gd/gd_global/{rbf}_gd_nfe_all.csv\", index=False) #global refset\n",
    "        print(f\"finished seed: {seed} at {DT.datetime.now().strftime('%H:%M:%S')}\")"
   ]
  },
  {
   "cell_type": "markdown",
   "id": "11b076d4",
   "metadata": {},
   "source": [
    "# Plot results"
   ]
  },
  {
   "cell_type": "code",
   "execution_count": null,
   "id": "297ab771",
   "metadata": {},
   "outputs": [],
   "source": [
    "sns.set_style(\"white\")\n",
    "for entry in rbfs:\n",
    "    name = entry.__name__\n",
    "    gd = pd.DataFrame.from_dict(gd_sets[name], orient='index').T\n",
    "    nfe = pd.DataFrame.from_dict(nfe_sets[name], orient='index').T\n",
    "    \n",
    "    fig, ax = plt.subplots()\n",
    "    ax.plot(nfe, gd)\n",
    "    ax.set_xlabel('nfe')\n",
    "    ax.set_ylabel('Generational distance')\n",
    "    ax.set_title(name)\n",
    "    sns.despine()\n",
    "\n",
    "    plt.show()"
   ]
  },
  {
   "cell_type": "markdown",
   "id": "18ef648d",
   "metadata": {},
   "source": [
    "# Local reference set"
   ]
  },
  {
   "cell_type": "code",
   "execution_count": null,
   "id": "17f9d333",
   "metadata": {},
   "outputs": [],
   "source": [
    "for entry, c in zip(rbfs, sns.color_palette()):\n",
    "    rbf = entry.__name__\n",
    "    df_gd = pd.read_csv(f\"gd/{rbf}_gd.csv\")\n",
    "    df_gd_nfe = pd.read_csv(f\"gd/{rbf}_gd_nfe.csv\")\n",
    "    fig, ax = plt.subplots(sharex=True)\n",
    "\n",
    "    ax.plot(df_gd_nfe, df_gd, color=c)\n",
    "\n",
    "    ax.set_xlabel('nfe')\n",
    "    ax.set_ylabel('epsilon indicator')\n",
    "    ax.set_title(rbf)\n",
    "    sns.despine()\n",
    "    plt.savefig(f'figs/{rbf}/{rbf}_gd.png')\n",
    "plt.show()"
   ]
  },
  {
   "cell_type": "markdown",
   "id": "edd70edc",
   "metadata": {},
   "source": [
    "# Global reference set"
   ]
  },
  {
   "cell_type": "code",
   "execution_count": null,
   "id": "600bc14e",
   "metadata": {},
   "outputs": [],
   "source": [
    "for entry, c in zip(rbfs, sns.color_palette()):\n",
    "    rbf = entry.__name__\n",
    "    df_gd = pd.read_csv(f\"gd_global/{rbf}_gd_all.csv\")\n",
    "    df_gd_nfe = pd.read_csv(f\"gd_global/{rbf}_gd_nfe_all.csv\")\n",
    "    fig, ax = plt.subplots(sharex=True)\n",
    "\n",
    "    ax.plot(df_gd_nfe, df_gd, color=c)\n",
    "\n",
    "    ax.set_xlabel('nfe')\n",
    "    ax.set_ylabel('epsilon indicator')\n",
    "    ax.set_title(rbf)\n",
    "    sns.despine()\n",
    "#     plt.savefig(f'figs/{rbf}/{rbf}_gd_global.png')\n",
    "plt.show()"
   ]
  },
  {
   "cell_type": "code",
   "execution_count": null,
   "id": "acae43df",
   "metadata": {},
   "outputs": [],
   "source": []
  }
 ],
 "metadata": {
  "kernelspec": {
   "display_name": "Python 3 (ipykernel)",
   "language": "python",
   "name": "python3"
  },
  "language_info": {
   "codemirror_mode": {
    "name": "ipython",
    "version": 3
   },
   "file_extension": ".py",
   "mimetype": "text/x-python",
   "name": "python",
   "nbconvert_exporter": "python",
   "pygments_lexer": "ipython3",
   "version": "3.8.3"
  }
 },
 "nbformat": 4,
 "nbformat_minor": 5
}

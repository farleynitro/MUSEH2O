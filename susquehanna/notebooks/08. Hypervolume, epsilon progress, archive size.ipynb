{
 "cells": [
  {
   "cell_type": "code",
   "execution_count": 1,
   "id": "dc023452",
   "metadata": {},
   "outputs": [],
   "source": [
    "import sys\n",
    "import pandas as pd\n",
    "import numpy as np\n",
    "import os\n",
    "import datetime as DT\n",
    "sys.path.append('..')\n",
    "import rbf_functions"
   ]
  },
  {
   "cell_type": "code",
   "execution_count": 2,
   "id": "c8c63314",
   "metadata": {},
   "outputs": [],
   "source": [
    "rbfs = [rbf_functions.original_rbf,\n",
    "        rbf_functions.squared_exponential_rbf,\n",
    "        rbf_functions.inverse_quadratic_rbf,\n",
    "        rbf_functions.inverse_multiquadric_rbf,\n",
    "        rbf_functions.exponential_rbf,\n",
    "        rbf_functions.matern32_rbf,\n",
    "        rbf_functions.matern52_rbf,\n",
    "       ]"
   ]
  },
  {
   "cell_type": "markdown",
   "id": "1513135b",
   "metadata": {},
   "source": [
    "# Load model output for each activation function"
   ]
  },
  {
   "cell_type": "code",
   "execution_count": 3,
   "id": "485c41ed",
   "metadata": {},
   "outputs": [],
   "source": [
    "# output_dir = f\"../output/{rbf}/\"\n",
    "nfearchive = {}\n",
    "for n in rbfs:\n",
    "    nfearchive[n.__name__] = {}\n",
    "for entry in rbfs:\n",
    "    name = entry.__name__\n",
    "    output_dir = f\"../output/{name}/\"\n",
    "    for i in os.listdir(output_dir):\n",
    "        if i.endswith(\"_hypervolume.csv\"):\n",
    "#             nfearchive[name][i.split(\"_\")[0]] = pd.read_csv(output_dir + i)\n",
    "            archives_by_nfe = pd.read_csv(output_dir + i)\n",
    "            nfes = archives_by_nfe[\"Unnamed: 0\"].values\n",
    "            u_nfes = np.unique(nfes)\n",
    "#             selected_nfe = u_nfes[-1::]\n",
    "            selected_nfe = u_nfes[0::10]\n",
    "            selected_nfe = np.append(selected_nfe, u_nfes[-1::])\n",
    "            nfearchive[name][int(i.split(\"_\")[0])] = archives_by_nfe.loc[archives_by_nfe['Unnamed: 0'].isin(selected_nfe)]"
   ]
  },
  {
   "cell_type": "markdown",
   "id": "fe3ccd0d",
   "metadata": {},
   "source": [
    "# Transform the dataframe back into platypus solution instances, to have a collection of solutions for each generation"
   ]
  },
  {
   "cell_type": "code",
   "execution_count": null,
   "id": "8577be7f",
   "metadata": {},
   "outputs": [],
   "source": [
    "from platypus import Solution, Problem, Hypervolume\n",
    "\n",
    "n_rbfs = 4\n",
    "n_objs = 6\n",
    "n_vars = n_rbfs * 8 \n",
    "\n",
    "problem = Problem(n_vars, n_objs)\n",
    "\n",
    "# matters for hypervolume\n",
    "problem.directions[0] = Problem.MAXIMIZE  # hydropower\n",
    "problem.directions[1] = Problem.MAXIMIZE  # atomic power plant\n",
    "problem.directions[2] = Problem.MAXIMIZE  # baltimore\n",
    "problem.directions[3] = Problem.MAXIMIZE  # chester\n",
    "problem.directions[4] = Problem.MINIMIZE  # environment\n",
    "problem.directions[5] = Problem.MAXIMIZE  # recreation\n",
    "\n",
    "archives = {}\n",
    "seeds = np.arange(10, 101, 10).tolist()\n",
    "for n in rbfs:\n",
    "    archives[n.__name__] = {}\n",
    "    for i in seeds:\n",
    "        archives[n.__name__][i] = {}\n",
    "for entry in rbfs:\n",
    "    name = entry.__name__\n",
    "    for s in nfearchive[name]: #nfearchive[name]:\n",
    "        for nfe, generation in nfearchive[name][s].groupby(\"Unnamed: 0\"):\n",
    "            # we slice from 2, getting rid of the first two columns \n",
    "            # which contain the NFE and ID of each solution\n",
    "            archive = []\n",
    "            for i, row in generation.iloc[:, 2::].iterrows():\n",
    "                solution = Solution(problem)\n",
    "                solution.objectives = row\n",
    "                archive.append(solution)\n",
    "            archives[name][s][nfe] = archive\n",
    "        "
   ]
  },
  {
   "cell_type": "markdown",
   "id": "554441c9",
   "metadata": {},
   "source": [
    "# Load reference sets, turn into solutions sets"
   ]
  },
  {
   "cell_type": "code",
   "execution_count": null,
   "id": "26b26ad5",
   "metadata": {},
   "outputs": [],
   "source": [
    "ref_dir = \"./refsets/\"\n",
    "ref_sets = {}\n",
    "for n in rbfs:\n",
    "    name = n.__name__\n",
    "    ref_sets[name] = {}\n",
    "    data = pd.read_csv(f'{ref_dir}{name}_refset.csv')  \n",
    "    ref_set = []\n",
    "    for i, row in data.iterrows():\n",
    "        solution = Solution(problem)\n",
    "        solution.objectives = row\n",
    "        ref_set.append(solution)\n",
    "    ref_sets[name] = ref_set"
   ]
  },
  {
   "cell_type": "code",
   "execution_count": null,
   "id": "bb946625",
   "metadata": {},
   "outputs": [],
   "source": [
    "ref_sets.keys()"
   ]
  },
  {
   "cell_type": "markdown",
   "id": "2f174412",
   "metadata": {},
   "source": [
    "# Or, load global reference set into solution set"
   ]
  },
  {
   "cell_type": "code",
   "execution_count": 16,
   "id": "095ea7aa",
   "metadata": {},
   "outputs": [],
   "source": [
    "ref_dir = \"./refsets\"\n",
    "data = pd.read_csv(f'{ref_dir}/global_refset.csv')  \n",
    "ref_set = []\n",
    "for i, row in data.iterrows():\n",
    "    solution = Solution(problem)\n",
    "    solution.objectives = row\n",
    "    ref_set.append(solution)"
   ]
  },
  {
   "cell_type": "markdown",
   "id": "7130bd4c",
   "metadata": {},
   "source": [
    "# Calculate Hypervolume for each seed"
   ]
  },
  {
   "cell_type": "code",
   "execution_count": null,
   "id": "fdfdb411",
   "metadata": {},
   "outputs": [
    {
     "name": "stdout",
     "output_type": "stream",
     "text": [
      "started original_rbf at 13:05:01\n"
     ]
    }
   ],
   "source": [
    "rbf = 'original_rbf'\n",
    "tempnfe = {}\n",
    "temphv = {}\n",
    "nfe_sets = {}\n",
    "hv_sets = {}\n",
    "# for rbf in archives:\n",
    "nfe_sets[rbf] = {}\n",
    "hv_sets[rbf] = {}\n",
    "hv = Hypervolume(reference_set=ref_sets[rbf])\n",
    "# hv = Hypervolume(reference_set=ref_set) #global\n",
    "print(f\"started {rbf} at {DT.datetime.now().strftime('%H:%M:%S')}\")\n",
    "# seedl = [10, 20, 30]\n",
    "for seed in archives[rbf]:\n",
    "    nfe_sets[rbf][seed] = {}\n",
    "    hv_sets[rbf][seed] = {}\n",
    "    s_archives = archives[rbf][seed]\n",
    "    nfes = []\n",
    "    hvs = []\n",
    "    for nfe, archive in s_archives.items():\n",
    "        nfes.append(nfe)\n",
    "        hvs.append(hv.calculate(archive))\n",
    "    nfe_sets[rbf][seed] = nfes\n",
    "    hv_sets[rbf][seed] = hvs\n",
    "    tempnfe[seed] = nfes\n",
    "    temphv[seed] = hvs\n",
    "    dfhv = pd.DataFrame.from_dict(temphv, orient='index')\n",
    "    dfnfe = pd.DataFrame.from_dict(tempnfe, orient='index')\n",
    "    dfhv = dfhv.T\n",
    "    dfnfe = dfnfe.T\n",
    "    dfhv.to_csv(f\"hv/{rbf}_hv.csv\", index=False)\n",
    "    dfnfe.to_csv(f\"hv/{rbf}_nfe.csv\", index=False)\n",
    "#     dfhv.to_csv(f\"hv_global/{rbf}_hv_all.csv\", index=False) #global\n",
    "#     dfnfe.to_csv(f\"hv_global/{rbf}_nfe_all.csv\", index=False) #global\n",
    "    print(f\"finished seed: {seed} at {DT.datetime.now().strftime('%H:%M:%S')}\")"
   ]
  },
  {
   "cell_type": "code",
   "execution_count": null,
   "id": "8cec49c7",
   "metadata": {},
   "outputs": [],
   "source": [
    "rbf = 'original_rbf'\n",
    "\n",
    "fig, ax = plt.subplots(sharex=True)\n",
    "for i in nfe_sets_all:\n",
    "    ax.plot(nfe_sets_all[i], hv_sets_all[i])\n",
    "\n",
    "ax.set_xlabel('nfe')\n",
    "ax.set_ylabel('hypervolume')\n",
    "ax.set_title(rbf)\n",
    "sns.despine()\n",
    "\n",
    "plt.show()"
   ]
  },
  {
   "cell_type": "markdown",
   "id": "3c9d0ce6",
   "metadata": {},
   "source": [
    "# Plot Hypervolume (local reference set) "
   ]
  },
  {
   "cell_type": "code",
   "execution_count": null,
   "id": "c35ad2af",
   "metadata": {},
   "outputs": [],
   "source": [
    "import matplotlib.pyplot as plt\n",
    "import seaborn as sns\n",
    "sns.set(rc={'figure.figsize':(11.7,8.27)})\n",
    "sns.set_style(\"white\")\n",
    "\n",
    "# Plot hypervolume for each rbf\n",
    "\n",
    "for entry, c in zip(rbfs, sns.color_palette()):\n",
    "    rbf = entry.__name__\n",
    "    df_hv = pd.read_csv(f\"hv/{rbf}_hv.csv\")\n",
    "    df_hv_nfe = pd.read_csv(f\"hv/{rbf}_hv_nfe.csv\")\n",
    "    fig, ax = plt.subplots(sharex=True)\n",
    "\n",
    "    ax.plot(df_hv_nfe, df_hv, color=c)\n",
    "\n",
    "    ax.set_xlabel('nfe')\n",
    "    ax.set_ylabel('hypervolume')\n",
    "    ax.set_title(rbf)\n",
    "    sns.despine()\n",
    "#     plt.savefig(f'figs/{rbf}/{rbf}_hv.jpg')\n",
    "plt.show()"
   ]
  },
  {
   "cell_type": "markdown",
   "id": "dd3a64bf",
   "metadata": {},
   "source": [
    "# Plot Epsilon progress"
   ]
  },
  {
   "cell_type": "code",
   "execution_count": null,
   "id": "9343e89b",
   "metadata": {},
   "outputs": [],
   "source": [
    "for entry, c in zip(rbfs, sns.color_palette()):\n",
    "    rbf = entry.__name__\n",
    "    \n",
    "    ep_nfe = {}\n",
    "    ep_improv = {}\n",
    "    output_dir = f\"../output/{rbf}/\"\n",
    "    for i in os.listdir(output_dir):\n",
    "        if i.endswith(\"_convergence.csv\"):\n",
    "            ep_load = pd.read_csv(output_dir + i)\n",
    "            ep_nfe[int(i.split(\"_\")[0])] = ep_load.nfe\n",
    "            ep_improv[int(i.split(\"_\")[0])]  = ep_load.improvements\n",
    "    ep_nfe = pd.DataFrame.from_dict(ep_nfe)\n",
    "    ep_improv = pd.DataFrame.from_dict(ep_improv)\n",
    "    \n",
    "    \n",
    "    fig, ax = plt.subplots(sharex=True)\n",
    "    ax.plot(ep_nfe, ep_improv, color=c)\n",
    "\n",
    "    ax.set_xlabel('nfe')\n",
    "    ax.set_ylabel('Epsilon progress')\n",
    "    ax.set_title(rbf)\n",
    "    sns.despine()\n",
    "#     plt.savefig(f'figs/{rbf}/{rbf}_epsprog.jpg')\n",
    "plt.show()"
   ]
  },
  {
   "cell_type": "markdown",
   "id": "a9b3dcba",
   "metadata": {},
   "source": [
    "# Plot Archive Size"
   ]
  },
  {
   "cell_type": "code",
   "execution_count": null,
   "id": "b24a74e2",
   "metadata": {},
   "outputs": [],
   "source": [
    "for entry, c in zip(rbfs, sns.color_palette()):\n",
    "    rbf = entry.__name__\n",
    "    archive_nfe = {}\n",
    "    archive_count = {}\n",
    "    output_dir = f\"../output/{rbf}/\"\n",
    "    for i in os.listdir(output_dir):\n",
    "        if i.endswith(\"_hypervolume.csv\"):\n",
    "            archives_by_nfe = pd.read_csv(output_dir + i)\n",
    "            dups = archives_by_nfe.pivot_table(columns=[\"Unnamed: 0\"], aggfunc='size')\n",
    "            archive_nfe[int(i.split(\"_\")[0])] = dups.index\n",
    "            archive_count[int(i.split(\"_\")[0])] = dups.reset_index(drop=True)\n",
    "\n",
    "    archive_nfe = pd.DataFrame.from_dict(archive_nfe, orient='index').T\n",
    "    archive_size = pd.DataFrame.from_dict(archive_count, orient='index').T\n",
    "    \n",
    "    fig, ax = plt.subplots(sharex=True)\n",
    "    ax.plot(archive_nfe, archive_size, color=c)\n",
    "\n",
    "    ax.set_xlabel('nfe')\n",
    "    ax.set_ylabel('Archive size')\n",
    "    ax.set_title(rbf)\n",
    "    sns.despine()\n",
    "#     plt.savefig(f'figs/{rbf}/{rbf}_archsize.jpg')\n",
    "plt.show()"
   ]
  },
  {
   "cell_type": "markdown",
   "id": "5944bb21",
   "metadata": {},
   "source": [
    "# Plot Hypervolume (global reference set) "
   ]
  },
  {
   "cell_type": "code",
   "execution_count": null,
   "id": "52ad3cbf",
   "metadata": {},
   "outputs": [],
   "source": [
    "import matplotlib.pyplot as plt\n",
    "import seaborn as sns\n",
    "sns.set(rc={'figure.figsize':(11.7,8.27)})\n",
    "sns.set_style(\"white\")\n",
    "\n",
    "# Plot hypervolume for each rbf\n",
    "\n",
    "for entry, c in zip(rbfs, sns.color_palette()):\n",
    "    rbf = entry.__name__\n",
    "    df_hv = pd.read_csv(f\"hv_global/{rbf}_hv_all.csv\")\n",
    "    df_hv_nfe = pd.read_csv(f\"hv_global/{rbf}_hv_nfe_all.csv\")\n",
    "    fig, ax = plt.subplots(sharex=True)\n",
    "\n",
    "    ax.plot(df_hv_nfe, df_hv, color=c)\n",
    "\n",
    "    ax.set_xlabel('nfe')\n",
    "    ax.set_ylabel('hypervolume')\n",
    "    ax.set_title(rbf)\n",
    "    sns.despine()\n",
    "#     plt.savefig(f'figs/{rbf}/{rbf}_hv_global.jpg')\n",
    "plt.show()"
   ]
  },
  {
   "cell_type": "code",
   "execution_count": null,
   "id": "165dc456",
   "metadata": {},
   "outputs": [],
   "source": []
  },
  {
   "cell_type": "code",
   "execution_count": null,
   "id": "fd662c81",
   "metadata": {},
   "outputs": [],
   "source": []
  }
 ],
 "metadata": {
  "kernelspec": {
   "display_name": "Python 3 (ipykernel)",
   "language": "python",
   "name": "python3"
  },
  "language_info": {
   "codemirror_mode": {
    "name": "ipython",
    "version": 3
   },
   "file_extension": ".py",
   "mimetype": "text/x-python",
   "name": "python",
   "nbconvert_exporter": "python",
   "pygments_lexer": "ipython3",
   "version": "3.8.16"
  }
 },
 "nbformat": 4,
 "nbformat_minor": 5
}
